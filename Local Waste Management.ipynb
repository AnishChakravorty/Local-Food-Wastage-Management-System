{
 "cells": [
  {
   "cell_type": "code",
   "execution_count": 1,
   "id": "ab50b149",
   "metadata": {},
   "outputs": [],
   "source": [
    "import streamlit as st\n",
    "import pandas as pd\n",
    "import mysql.connector\n",
    "import plotly.express as px"
   ]
  },
  {
   "cell_type": "code",
   "execution_count": 5,
   "id": "14c5f2a5",
   "metadata": {},
   "outputs": [],
   "source": [
    "import warnings\n",
    "warnings.filterwarnings(\"ignore\")"
   ]
  },
  {
   "cell_type": "code",
   "execution_count": 2,
   "id": "827dc3c4",
   "metadata": {},
   "outputs": [],
   "source": [
    "# ------------------------------\n",
    "# DATABASE CONNECTION\n",
    "# ------------------------------\n",
    "def create_connection():\n",
    "    return mysql.connector.connect(\n",
    "        host=\"localhost\",      # Change if different\n",
    "        user=\"root\",           # Your MySQL username\n",
    "        password=\"root\",  # Your MySQL password\n",
    "        database=\"food_wastage_db\" # Your DB name\n",
    "    )\n",
    "\n",
    "conn = create_connection()"
   ]
  },
  {
   "cell_type": "code",
   "execution_count": 3,
   "id": "b2a5089f",
   "metadata": {},
   "outputs": [],
   "source": [
    "# ------------------------------\n",
    "# HELPER FUNCTION\n",
    "# ------------------------------\n",
    "def run_query(query):\n",
    "    return pd.read_sql(query, conn)\n"
   ]
  },
  {
   "cell_type": "code",
   "execution_count": 4,
   "id": "2d52f443",
   "metadata": {},
   "outputs": [
    {
     "name": "stderr",
     "output_type": "stream",
     "text": [
      "2025-08-15 21:21:09.520 WARNING streamlit.runtime.scriptrunner_utils.script_run_context: Thread 'MainThread': missing ScriptRunContext! This warning can be ignored when running in bare mode.\n",
      "2025-08-15 21:21:09.521 WARNING streamlit.runtime.scriptrunner_utils.script_run_context: Thread 'MainThread': missing ScriptRunContext! This warning can be ignored when running in bare mode.\n",
      "2025-08-15 21:21:10.208 \n",
      "  \u001b[33m\u001b[1mWarning:\u001b[0m to view this Streamlit app on a browser, run it with the following\n",
      "  command:\n",
      "\n",
      "    streamlit run C:\\Users\\Anish\\AppData\\Local\\Packages\\PythonSoftwareFoundation.Python.3.11_qbz5n2kfra8p0\\LocalCache\\local-packages\\Python311\\site-packages\\ipykernel_launcher.py [ARGUMENTS]\n",
      "2025-08-15 21:21:10.209 Thread 'MainThread': missing ScriptRunContext! This warning can be ignored when running in bare mode.\n",
      "2025-08-15 21:21:10.210 Thread 'MainThread': missing ScriptRunContext! This warning can be ignored when running in bare mode.\n",
      "2025-08-15 21:21:10.211 Thread 'MainThread': missing ScriptRunContext! This warning can be ignored when running in bare mode.\n",
      "2025-08-15 21:21:10.212 Thread 'MainThread': missing ScriptRunContext! This warning can be ignored when running in bare mode.\n",
      "2025-08-15 21:21:10.213 Thread 'MainThread': missing ScriptRunContext! This warning can be ignored when running in bare mode.\n"
     ]
    },
    {
     "data": {
      "text/plain": [
       "DeltaGenerator()"
      ]
     },
     "execution_count": 4,
     "metadata": {},
     "output_type": "execute_result"
    }
   ],
   "source": [
    "# ------------------------------\n",
    "# STREAMLIT UI\n",
    "# ------------------------------\n",
    "st.set_page_config(page_title=\"Food Wastage Management Dashboard\", layout=\"wide\")\n",
    "st.title(\"📊 Food Wastage Management Dashboard\")\n",
    "\n",
    "st.markdown(\"This dashboard shows insights from the **Local Food Wastage Management System** using MySQL data.\")"
   ]
  },
  {
   "cell_type": "code",
   "execution_count": 6,
   "id": "6c4335fd",
   "metadata": {},
   "outputs": [
    {
     "name": "stderr",
     "output_type": "stream",
     "text": [
      "2025-08-15 21:21:51.604 Thread 'MainThread': missing ScriptRunContext! This warning can be ignored when running in bare mode.\n",
      "2025-08-15 21:21:51.606 Thread 'MainThread': missing ScriptRunContext! This warning can be ignored when running in bare mode.\n",
      "2025-08-15 21:21:51.607 Thread 'MainThread': missing ScriptRunContext! This warning can be ignored when running in bare mode.\n",
      "2025-08-15 21:21:51.659 Thread 'MainThread': missing ScriptRunContext! This warning can be ignored when running in bare mode.\n",
      "2025-08-15 21:21:51.661 Thread 'MainThread': missing ScriptRunContext! This warning can be ignored when running in bare mode.\n",
      "2025-08-15 21:21:51.661 Thread 'MainThread': missing ScriptRunContext! This warning can be ignored when running in bare mode.\n",
      "2025-08-15 21:21:53.012 Thread 'MainThread': missing ScriptRunContext! This warning can be ignored when running in bare mode.\n",
      "2025-08-15 21:21:53.013 Thread 'MainThread': missing ScriptRunContext! This warning can be ignored when running in bare mode.\n",
      "2025-08-15 21:21:53.014 Thread 'MainThread': missing ScriptRunContext! This warning can be ignored when running in bare mode.\n",
      "2025-08-15 21:21:53.014 Thread 'MainThread': missing ScriptRunContext! This warning can be ignored when running in bare mode.\n",
      "2025-08-15 21:21:53.015 Thread 'MainThread': missing ScriptRunContext! This warning can be ignored when running in bare mode.\n"
     ]
    },
    {
     "data": {
      "text/plain": [
       "DeltaGenerator()"
      ]
     },
     "execution_count": 6,
     "metadata": {},
     "output_type": "execute_result"
    }
   ],
   "source": [
    "# ==============================\n",
    "# 1. Providers & Receivers by City\n",
    "# ==============================\n",
    "st.subheader(\"1️⃣ Providers & Receivers by City\")\n",
    "query1 = \"\"\"\n",
    "SELECT p.City, \n",
    "       COUNT(DISTINCT p.Provider_ID) AS Total_Providers, \n",
    "       COUNT(DISTINCT r.Receiver_ID) AS Total_Receivers\n",
    "FROM providers_data p\n",
    "LEFT JOIN receivers_data r ON p.City = r.City\n",
    "GROUP BY p.City;\n",
    "\"\"\"\n",
    "df1 = run_query(query1)\n",
    "st.dataframe(df1)\n",
    "\n",
    "fig1 = px.bar(df1, x=\"City\", y=[\"Total_Providers\", \"Total_Receivers\"], barmode=\"group\", title=\"Providers vs Receivers by City\")\n",
    "st.plotly_chart(fig1, use_container_width=True)"
   ]
  },
  {
   "cell_type": "code",
   "execution_count": 7,
   "id": "ffc2608f",
   "metadata": {},
   "outputs": [
    {
     "name": "stderr",
     "output_type": "stream",
     "text": [
      "2025-08-15 21:22:03.874 Thread 'MainThread': missing ScriptRunContext! This warning can be ignored when running in bare mode.\n",
      "2025-08-15 21:22:03.879 Thread 'MainThread': missing ScriptRunContext! This warning can be ignored when running in bare mode.\n",
      "2025-08-15 21:22:03.880 Thread 'MainThread': missing ScriptRunContext! This warning can be ignored when running in bare mode.\n",
      "2025-08-15 21:22:03.888 Thread 'MainThread': missing ScriptRunContext! This warning can be ignored when running in bare mode.\n",
      "2025-08-15 21:22:03.889 Thread 'MainThread': missing ScriptRunContext! This warning can be ignored when running in bare mode.\n",
      "2025-08-15 21:22:03.889 Thread 'MainThread': missing ScriptRunContext! This warning can be ignored when running in bare mode.\n",
      "2025-08-15 21:22:03.950 Thread 'MainThread': missing ScriptRunContext! This warning can be ignored when running in bare mode.\n",
      "2025-08-15 21:22:03.951 Thread 'MainThread': missing ScriptRunContext! This warning can be ignored when running in bare mode.\n",
      "2025-08-15 21:22:03.952 Thread 'MainThread': missing ScriptRunContext! This warning can be ignored when running in bare mode.\n",
      "2025-08-15 21:22:03.952 Thread 'MainThread': missing ScriptRunContext! This warning can be ignored when running in bare mode.\n",
      "2025-08-15 21:22:03.953 Thread 'MainThread': missing ScriptRunContext! This warning can be ignored when running in bare mode.\n"
     ]
    },
    {
     "data": {
      "text/plain": [
       "DeltaGenerator()"
      ]
     },
     "execution_count": 7,
     "metadata": {},
     "output_type": "execute_result"
    }
   ],
   "source": [
    "# ==============================\n",
    "# 2. Provider Type Contribution\n",
    "# ==============================\n",
    "st.subheader(\"2️⃣ Provider Type Contribution\")\n",
    "query2 = \"\"\"\n",
    "SELECT f.Provider_Type, \n",
    "       SUM(f.Quantity) AS Total_Quantity\n",
    "FROM food_listings_data f\n",
    "GROUP BY f.Provider_Type\n",
    "ORDER BY Total_Quantity DESC;\n",
    "\"\"\"\n",
    "df2 = run_query(query2)\n",
    "st.dataframe(df2)\n",
    "fig2 = px.pie(df2, names=\"Provider_Type\", values=\"Total_Quantity\", title=\"Contribution by Provider Type\")\n",
    "st.plotly_chart(fig2, use_container_width=True)"
   ]
  },
  {
   "cell_type": "code",
   "execution_count": 8,
   "id": "6128af8c",
   "metadata": {},
   "outputs": [
    {
     "name": "stderr",
     "output_type": "stream",
     "text": [
      "2025-08-15 21:22:12.232 Thread 'MainThread': missing ScriptRunContext! This warning can be ignored when running in bare mode.\n",
      "2025-08-15 21:22:12.233 Thread 'MainThread': missing ScriptRunContext! This warning can be ignored when running in bare mode.\n",
      "2025-08-15 21:22:12.234 Thread 'MainThread': missing ScriptRunContext! This warning can be ignored when running in bare mode.\n",
      "2025-08-15 21:22:12.248 Thread 'MainThread': missing ScriptRunContext! This warning can be ignored when running in bare mode.\n",
      "2025-08-15 21:22:12.249 Thread 'MainThread': missing ScriptRunContext! This warning can be ignored when running in bare mode.\n",
      "2025-08-15 21:22:12.250 Thread 'MainThread': missing ScriptRunContext! This warning can be ignored when running in bare mode.\n",
      "2025-08-15 21:22:12.252 Thread 'MainThread': missing ScriptRunContext! This warning can be ignored when running in bare mode.\n",
      "2025-08-15 21:22:12.253 Session state does not function when running a script without `streamlit run`\n",
      "2025-08-15 21:22:12.254 Thread 'MainThread': missing ScriptRunContext! This warning can be ignored when running in bare mode.\n",
      "2025-08-15 21:22:12.254 Thread 'MainThread': missing ScriptRunContext! This warning can be ignored when running in bare mode.\n",
      "2025-08-15 21:22:12.255 Thread 'MainThread': missing ScriptRunContext! This warning can be ignored when running in bare mode.\n",
      "2025-08-15 21:22:12.262 Thread 'MainThread': missing ScriptRunContext! This warning can be ignored when running in bare mode.\n",
      "2025-08-15 21:22:12.263 Thread 'MainThread': missing ScriptRunContext! This warning can be ignored when running in bare mode.\n",
      "2025-08-15 21:22:12.264 Thread 'MainThread': missing ScriptRunContext! This warning can be ignored when running in bare mode.\n"
     ]
    },
    {
     "data": {
      "text/plain": [
       "DeltaGenerator()"
      ]
     },
     "execution_count": 8,
     "metadata": {},
     "output_type": "execute_result"
    }
   ],
   "source": [
    "# ==============================\n",
    "# 3. Contact Info by City (Filter)\n",
    "# ==============================\n",
    "st.subheader(\"3️⃣ Contact Information of Providers by City\")\n",
    "cities = run_query(\"SELECT DISTINCT City FROM providers_data\")[\"City\"].tolist()\n",
    "selected_city = st.selectbox(\"Select City\", cities)\n",
    "query3 = f\"\"\"\n",
    "SELECT p.Name, p.Contact\n",
    "FROM providers_data p\n",
    "WHERE p.City = '{selected_city}';\n",
    "\"\"\"\n",
    "df3 = run_query(query3)\n",
    "st.dataframe(df3)"
   ]
  },
  {
   "cell_type": "code",
   "execution_count": 9,
   "id": "938a96f9",
   "metadata": {},
   "outputs": [
    {
     "name": "stderr",
     "output_type": "stream",
     "text": [
      "2025-08-15 21:22:32.041 Thread 'MainThread': missing ScriptRunContext! This warning can be ignored when running in bare mode.\n",
      "2025-08-15 21:22:32.042 Thread 'MainThread': missing ScriptRunContext! This warning can be ignored when running in bare mode.\n",
      "2025-08-15 21:22:32.042 Thread 'MainThread': missing ScriptRunContext! This warning can be ignored when running in bare mode.\n",
      "2025-08-15 21:22:32.055 Thread 'MainThread': missing ScriptRunContext! This warning can be ignored when running in bare mode.\n",
      "2025-08-15 21:22:32.056 Thread 'MainThread': missing ScriptRunContext! This warning can be ignored when running in bare mode.\n",
      "2025-08-15 21:22:32.056 Thread 'MainThread': missing ScriptRunContext! This warning can be ignored when running in bare mode.\n"
     ]
    },
    {
     "data": {
      "text/plain": [
       "DeltaGenerator()"
      ]
     },
     "execution_count": 9,
     "metadata": {},
     "output_type": "execute_result"
    }
   ],
   "source": [
    "# ==============================\n",
    "# 4. Receivers Who Claimed Most\n",
    "# ==============================\n",
    "st.subheader(\"4️⃣ Top Receivers by Food Claimed\")\n",
    "query4 = \"\"\"\n",
    "SELECT r.Name, \n",
    "       SUM(f.Quantity) AS Total_Claimed\n",
    "FROM claims_data c\n",
    "JOIN receivers_data r ON c.Receiver_ID = r.Receiver_ID\n",
    "JOIN food_listings_data f ON c.Food_ID = f.Food_ID\n",
    "WHERE c.Status = 'Completed'\n",
    "GROUP BY r.Name\n",
    "ORDER BY Total_Claimed DESC;\n",
    "\"\"\"\n",
    "df4 = run_query(query4)\n",
    "st.dataframe(df4)"
   ]
  },
  {
   "cell_type": "code",
   "execution_count": 10,
   "id": "8a38c164",
   "metadata": {},
   "outputs": [
    {
     "name": "stderr",
     "output_type": "stream",
     "text": [
      "2025-08-15 21:22:50.746 Thread 'MainThread': missing ScriptRunContext! This warning can be ignored when running in bare mode.\n",
      "2025-08-15 21:22:50.750 Thread 'MainThread': missing ScriptRunContext! This warning can be ignored when running in bare mode.\n",
      "2025-08-15 21:22:50.750 Thread 'MainThread': missing ScriptRunContext! This warning can be ignored when running in bare mode.\n",
      "2025-08-15 21:22:50.756 Thread 'MainThread': missing ScriptRunContext! This warning can be ignored when running in bare mode.\n",
      "2025-08-15 21:22:50.756 Thread 'MainThread': missing ScriptRunContext! This warning can be ignored when running in bare mode.\n",
      "2025-08-15 21:22:50.758 Thread 'MainThread': missing ScriptRunContext! This warning can be ignored when running in bare mode.\n"
     ]
    },
    {
     "data": {
      "text/plain": [
       "DeltaGenerator()"
      ]
     },
     "execution_count": 10,
     "metadata": {},
     "output_type": "execute_result"
    }
   ],
   "source": [
    "# ==============================\n",
    "# 5. Total Quantity Available\n",
    "# ==============================\n",
    "st.subheader(\"5️⃣ Total Quantity Available\")\n",
    "query5 = \"SELECT SUM(f.Quantity) AS Total_Food_Quantity FROM food_listings_data f;\"\n",
    "df5 = run_query(query5)\n",
    "st.metric(label=\"Total Food Quantity\", value=int(df5[\"Total_Food_Quantity\"][0]))"
   ]
  },
  {
   "cell_type": "code",
   "execution_count": 11,
   "id": "7cdd56a5",
   "metadata": {},
   "outputs": [
    {
     "name": "stderr",
     "output_type": "stream",
     "text": [
      "2025-08-15 21:23:00.807 Thread 'MainThread': missing ScriptRunContext! This warning can be ignored when running in bare mode.\n",
      "2025-08-15 21:23:00.812 Thread 'MainThread': missing ScriptRunContext! This warning can be ignored when running in bare mode.\n",
      "2025-08-15 21:23:00.812 Thread 'MainThread': missing ScriptRunContext! This warning can be ignored when running in bare mode.\n",
      "2025-08-15 21:23:00.820 Thread 'MainThread': missing ScriptRunContext! This warning can be ignored when running in bare mode.\n",
      "2025-08-15 21:23:00.820 Thread 'MainThread': missing ScriptRunContext! This warning can be ignored when running in bare mode.\n",
      "2025-08-15 21:23:00.822 Thread 'MainThread': missing ScriptRunContext! This warning can be ignored when running in bare mode.\n"
     ]
    },
    {
     "data": {
      "text/plain": [
       "DeltaGenerator()"
      ]
     },
     "execution_count": 11,
     "metadata": {},
     "output_type": "execute_result"
    }
   ],
   "source": [
    "# ==============================\n",
    "# 6. City with Highest Listings\n",
    "# ==============================\n",
    "st.subheader(\"6️⃣ City with Highest Listings\")\n",
    "query6 = \"\"\"\n",
    "SELECT f.Location, \n",
    "       COUNT(*) AS Total_Listings\n",
    "FROM food_listings_data f\n",
    "GROUP BY f.Location\n",
    "ORDER BY Total_Listings DESC\n",
    "LIMIT 1;\n",
    "\"\"\"\n",
    "df6 = run_query(query6)\n",
    "st.dataframe(df6)"
   ]
  },
  {
   "cell_type": "code",
   "execution_count": 12,
   "id": "cd43c7fa",
   "metadata": {},
   "outputs": [
    {
     "name": "stderr",
     "output_type": "stream",
     "text": [
      "2025-08-15 21:23:10.356 Thread 'MainThread': missing ScriptRunContext! This warning can be ignored when running in bare mode.\n",
      "2025-08-15 21:23:10.360 Thread 'MainThread': missing ScriptRunContext! This warning can be ignored when running in bare mode.\n",
      "2025-08-15 21:23:10.361 Thread 'MainThread': missing ScriptRunContext! This warning can be ignored when running in bare mode.\n",
      "2025-08-15 21:23:10.369 Thread 'MainThread': missing ScriptRunContext! This warning can be ignored when running in bare mode.\n",
      "2025-08-15 21:23:10.371 Thread 'MainThread': missing ScriptRunContext! This warning can be ignored when running in bare mode.\n",
      "2025-08-15 21:23:10.372 Thread 'MainThread': missing ScriptRunContext! This warning can be ignored when running in bare mode.\n"
     ]
    },
    {
     "data": {
      "text/plain": [
       "DeltaGenerator()"
      ]
     },
     "execution_count": 12,
     "metadata": {},
     "output_type": "execute_result"
    }
   ],
   "source": [
    "# ==============================\n",
    "# 7. Most Common Food Types\n",
    "# ==============================\n",
    "st.subheader(\"7️⃣ Most Common Food Types\")\n",
    "query7 = \"\"\"\n",
    "SELECT f.Food_Type, \n",
    "       COUNT(*) AS Count\n",
    "FROM food_listings_data f\n",
    "GROUP BY f.Food_Type\n",
    "ORDER BY Count DESC;\n",
    "\"\"\"\n",
    "df7 = run_query(query7)\n",
    "st.dataframe(df7)"
   ]
  },
  {
   "cell_type": "code",
   "execution_count": 13,
   "id": "e4a4b76d",
   "metadata": {},
   "outputs": [
    {
     "name": "stderr",
     "output_type": "stream",
     "text": [
      "2025-08-15 21:23:16.791 Thread 'MainThread': missing ScriptRunContext! This warning can be ignored when running in bare mode.\n",
      "2025-08-15 21:23:16.791 Thread 'MainThread': missing ScriptRunContext! This warning can be ignored when running in bare mode.\n",
      "2025-08-15 21:23:16.796 Thread 'MainThread': missing ScriptRunContext! This warning can be ignored when running in bare mode.\n",
      "2025-08-15 21:23:16.810 Thread 'MainThread': missing ScriptRunContext! This warning can be ignored when running in bare mode.\n",
      "2025-08-15 21:23:16.811 Thread 'MainThread': missing ScriptRunContext! This warning can be ignored when running in bare mode.\n",
      "2025-08-15 21:23:16.812 Thread 'MainThread': missing ScriptRunContext! This warning can be ignored when running in bare mode.\n"
     ]
    },
    {
     "data": {
      "text/plain": [
       "DeltaGenerator()"
      ]
     },
     "execution_count": 13,
     "metadata": {},
     "output_type": "execute_result"
    }
   ],
   "source": [
    "# ==============================\n",
    "# 8. Claims per Food Item\n",
    "# ==============================\n",
    "st.subheader(\"8️⃣ Claims per Food Item\")\n",
    "query8 = \"\"\"\n",
    "SELECT c.Food_ID, \n",
    "       COUNT(*) AS Claim_Count\n",
    "FROM claims_data c\n",
    "GROUP BY c.Food_ID\n",
    "ORDER BY Claim_Count DESC;\n",
    "\"\"\"\n",
    "df8 = run_query(query8)\n",
    "st.dataframe(df8)"
   ]
  },
  {
   "cell_type": "code",
   "execution_count": 14,
   "id": "9310cba6",
   "metadata": {},
   "outputs": [
    {
     "name": "stderr",
     "output_type": "stream",
     "text": [
      "2025-08-15 21:23:25.909 Thread 'MainThread': missing ScriptRunContext! This warning can be ignored when running in bare mode.\n",
      "2025-08-15 21:23:25.910 Thread 'MainThread': missing ScriptRunContext! This warning can be ignored when running in bare mode.\n",
      "2025-08-15 21:23:25.911 Thread 'MainThread': missing ScriptRunContext! This warning can be ignored when running in bare mode.\n",
      "2025-08-15 21:23:25.920 Thread 'MainThread': missing ScriptRunContext! This warning can be ignored when running in bare mode.\n",
      "2025-08-15 21:23:25.920 Thread 'MainThread': missing ScriptRunContext! This warning can be ignored when running in bare mode.\n",
      "2025-08-15 21:23:25.921 Thread 'MainThread': missing ScriptRunContext! This warning can be ignored when running in bare mode.\n"
     ]
    },
    {
     "data": {
      "text/plain": [
       "DeltaGenerator()"
      ]
     },
     "execution_count": 14,
     "metadata": {},
     "output_type": "execute_result"
    }
   ],
   "source": [
    "# ==============================\n",
    "# 9. Provider with Most Successful Claims\n",
    "# ==============================\n",
    "st.subheader(\"9️⃣ Provider with Most Successful Claims\")\n",
    "query9 = \"\"\"\n",
    "SELECT p.Name, \n",
    "       COUNT(*) AS Successful_Claims\n",
    "FROM claims_data c\n",
    "JOIN food_listings_data f ON c.Food_ID = f.Food_ID\n",
    "JOIN providers_data p ON f.Provider_ID = p.Provider_ID\n",
    "WHERE c.Status = 'Completed'\n",
    "GROUP BY p.Name\n",
    "ORDER BY Successful_Claims DESC\n",
    "LIMIT 1;\n",
    "\"\"\"\n",
    "df9 = run_query(query9)\n",
    "st.dataframe(df9)"
   ]
  },
  {
   "cell_type": "code",
   "execution_count": 15,
   "id": "d082cc28",
   "metadata": {},
   "outputs": [
    {
     "name": "stderr",
     "output_type": "stream",
     "text": [
      "2025-08-15 21:23:33.122 Thread 'MainThread': missing ScriptRunContext! This warning can be ignored when running in bare mode.\n",
      "2025-08-15 21:23:33.127 Thread 'MainThread': missing ScriptRunContext! This warning can be ignored when running in bare mode.\n",
      "2025-08-15 21:23:33.128 Thread 'MainThread': missing ScriptRunContext! This warning can be ignored when running in bare mode.\n",
      "2025-08-15 21:23:33.137 Thread 'MainThread': missing ScriptRunContext! This warning can be ignored when running in bare mode.\n",
      "2025-08-15 21:23:33.138 Thread 'MainThread': missing ScriptRunContext! This warning can be ignored when running in bare mode.\n",
      "2025-08-15 21:23:33.139 Thread 'MainThread': missing ScriptRunContext! This warning can be ignored when running in bare mode.\n",
      "2025-08-15 21:23:33.160 Thread 'MainThread': missing ScriptRunContext! This warning can be ignored when running in bare mode.\n",
      "2025-08-15 21:23:33.162 Thread 'MainThread': missing ScriptRunContext! This warning can be ignored when running in bare mode.\n",
      "2025-08-15 21:23:33.163 Thread 'MainThread': missing ScriptRunContext! This warning can be ignored when running in bare mode.\n",
      "2025-08-15 21:23:33.164 Thread 'MainThread': missing ScriptRunContext! This warning can be ignored when running in bare mode.\n",
      "2025-08-15 21:23:33.165 Thread 'MainThread': missing ScriptRunContext! This warning can be ignored when running in bare mode.\n"
     ]
    },
    {
     "data": {
      "text/plain": [
       "DeltaGenerator()"
      ]
     },
     "execution_count": 15,
     "metadata": {},
     "output_type": "execute_result"
    }
   ],
   "source": [
    "# ==============================\n",
    "# 10. Percentage of Claims by Status\n",
    "# ==============================\n",
    "st.subheader(\"🔟 Percentage of Claims by Status\")\n",
    "query10 = \"\"\"\n",
    "SELECT c.Status, \n",
    "       ROUND(COUNT(*) * 100.0 / (SELECT COUNT(*) FROM claims_data), 2) AS Percentage\n",
    "FROM claims_data c\n",
    "GROUP BY c.Status;\n",
    "\"\"\"\n",
    "df10 = run_query(query10)\n",
    "st.dataframe(df10)\n",
    "fig10 = px.pie(df10, names=\"Status\", values=\"Percentage\", title=\"Claims Status Distribution\")\n",
    "st.plotly_chart(fig10, use_container_width=True)"
   ]
  },
  {
   "cell_type": "code",
   "execution_count": 16,
   "id": "03752766",
   "metadata": {},
   "outputs": [
    {
     "name": "stderr",
     "output_type": "stream",
     "text": [
      "2025-08-15 21:23:39.870 Thread 'MainThread': missing ScriptRunContext! This warning can be ignored when running in bare mode.\n",
      "2025-08-15 21:23:39.875 Thread 'MainThread': missing ScriptRunContext! This warning can be ignored when running in bare mode.\n",
      "2025-08-15 21:23:39.876 Thread 'MainThread': missing ScriptRunContext! This warning can be ignored when running in bare mode.\n",
      "2025-08-15 21:23:39.888 Thread 'MainThread': missing ScriptRunContext! This warning can be ignored when running in bare mode.\n",
      "2025-08-15 21:23:39.889 Thread 'MainThread': missing ScriptRunContext! This warning can be ignored when running in bare mode.\n",
      "2025-08-15 21:23:39.889 Thread 'MainThread': missing ScriptRunContext! This warning can be ignored when running in bare mode.\n"
     ]
    },
    {
     "data": {
      "text/plain": [
       "DeltaGenerator()"
      ]
     },
     "execution_count": 16,
     "metadata": {},
     "output_type": "execute_result"
    }
   ],
   "source": [
    "# ==============================\n",
    "# 11. Avg Quantity Claimed per Receiver\n",
    "# ==============================\n",
    "st.subheader(\"1️⃣1️⃣ Average Quantity Claimed per Receiver\")\n",
    "query11 = \"\"\"\n",
    "SELECT r.Name, \n",
    "       ROUND(AVG(f.Quantity), 2) AS Avg_Quantity_Claimed\n",
    "FROM claims_data c\n",
    "JOIN receivers_data r ON c.Receiver_ID = r.Receiver_ID\n",
    "JOIN food_listings_data f ON c.Food_ID = f.Food_ID\n",
    "WHERE c.Status = 'Completed'\n",
    "GROUP BY r.Name;\n",
    "\"\"\"\n",
    "df11 = run_query(query11)\n",
    "st.dataframe(df11)"
   ]
  },
  {
   "cell_type": "code",
   "execution_count": 17,
   "id": "f56e6d50",
   "metadata": {},
   "outputs": [
    {
     "name": "stderr",
     "output_type": "stream",
     "text": [
      "2025-08-15 21:23:46.475 Thread 'MainThread': missing ScriptRunContext! This warning can be ignored when running in bare mode.\n",
      "2025-08-15 21:23:46.479 Thread 'MainThread': missing ScriptRunContext! This warning can be ignored when running in bare mode.\n",
      "2025-08-15 21:23:46.480 Thread 'MainThread': missing ScriptRunContext! This warning can be ignored when running in bare mode.\n",
      "2025-08-15 21:23:46.488 Thread 'MainThread': missing ScriptRunContext! This warning can be ignored when running in bare mode.\n",
      "2025-08-15 21:23:46.489 Thread 'MainThread': missing ScriptRunContext! This warning can be ignored when running in bare mode.\n",
      "2025-08-15 21:23:46.490 Thread 'MainThread': missing ScriptRunContext! This warning can be ignored when running in bare mode.\n"
     ]
    },
    {
     "data": {
      "text/plain": [
       "DeltaGenerator()"
      ]
     },
     "execution_count": 17,
     "metadata": {},
     "output_type": "execute_result"
    }
   ],
   "source": [
    "# ==============================\n",
    "# 12. Most Claimed Meal Type\n",
    "# ==============================\n",
    "st.subheader(\"1️⃣2️⃣ Most Claimed Meal Type\")\n",
    "query12 = \"\"\"\n",
    "SELECT f.Meal_Type, \n",
    "       COUNT(*) AS Claim_Count\n",
    "FROM claims_data c\n",
    "JOIN food_listings_data f ON c.Food_ID = f.Food_ID\n",
    "WHERE c.Status = 'Completed'\n",
    "GROUP BY f.Meal_Type\n",
    "ORDER BY Claim_Count DESC;\n",
    "\"\"\"\n",
    "df12 = run_query(query12)\n",
    "st.dataframe(df12)"
   ]
  },
  {
   "cell_type": "code",
   "execution_count": 18,
   "id": "6c2c2706",
   "metadata": {},
   "outputs": [
    {
     "name": "stderr",
     "output_type": "stream",
     "text": [
      "2025-08-15 21:23:57.330 Thread 'MainThread': missing ScriptRunContext! This warning can be ignored when running in bare mode.\n",
      "2025-08-15 21:23:57.334 Thread 'MainThread': missing ScriptRunContext! This warning can be ignored when running in bare mode.\n",
      "2025-08-15 21:23:57.335 Thread 'MainThread': missing ScriptRunContext! This warning can be ignored when running in bare mode.\n",
      "2025-08-15 21:23:57.350 Thread 'MainThread': missing ScriptRunContext! This warning can be ignored when running in bare mode.\n",
      "2025-08-15 21:23:57.350 Thread 'MainThread': missing ScriptRunContext! This warning can be ignored when running in bare mode.\n",
      "2025-08-15 21:23:57.351 Thread 'MainThread': missing ScriptRunContext! This warning can be ignored when running in bare mode.\n"
     ]
    },
    {
     "data": {
      "text/plain": [
       "DeltaGenerator()"
      ]
     },
     "execution_count": 18,
     "metadata": {},
     "output_type": "execute_result"
    }
   ],
   "source": [
    "# ==============================\n",
    "# 13. Total Donated by Each Provider\n",
    "# ==============================\n",
    "st.subheader(\"1️⃣3️⃣ Total Quantity Donated by Provider\")\n",
    "query13 = \"\"\"\n",
    "SELECT p.Name, \n",
    "       SUM(f.Quantity) AS Total_Donated\n",
    "FROM food_listings_data f\n",
    "JOIN providers_data p ON f.Provider_ID = p.Provider_ID\n",
    "GROUP BY p.Name\n",
    "ORDER BY Total_Donated DESC;\n",
    "\"\"\"\n",
    "df13 = run_query(query13)\n",
    "st.dataframe(df13)"
   ]
  },
  {
   "cell_type": "code",
   "execution_count": 19,
   "id": "2ec8963f",
   "metadata": {},
   "outputs": [
    {
     "name": "stderr",
     "output_type": "stream",
     "text": [
      "2025-08-15 21:24:05.995 Thread 'MainThread': missing ScriptRunContext! This warning can be ignored when running in bare mode.\n",
      "2025-08-15 21:24:05.996 Thread 'MainThread': missing ScriptRunContext! This warning can be ignored when running in bare mode.\n",
      "2025-08-15 21:24:05.997 Thread 'MainThread': missing ScriptRunContext! This warning can be ignored when running in bare mode.\n",
      "2025-08-15 21:24:06.008 Thread 'MainThread': missing ScriptRunContext! This warning can be ignored when running in bare mode.\n",
      "2025-08-15 21:24:06.009 Thread 'MainThread': missing ScriptRunContext! This warning can be ignored when running in bare mode.\n",
      "2025-08-15 21:24:06.009 Thread 'MainThread': missing ScriptRunContext! This warning can be ignored when running in bare mode.\n"
     ]
    },
    {
     "data": {
      "text/plain": [
       "DeltaGenerator()"
      ]
     },
     "execution_count": 19,
     "metadata": {},
     "output_type": "execute_result"
    }
   ],
   "source": [
    "# ==============================\n",
    "# 14. City with Highest Pending Quantity\n",
    "# ==============================\n",
    "st.subheader(\"1️⃣4️⃣ City with Highest Pending Quantity\")\n",
    "query14 = \"\"\"\n",
    "SELECT f.Location, \n",
    "       SUM(f.Quantity) AS Pending_Quantity\n",
    "FROM claims_data c\n",
    "JOIN food_listings_data f ON c.Food_ID = f.Food_ID\n",
    "WHERE c.Status = 'Pending'\n",
    "GROUP BY f.Location\n",
    "ORDER BY Pending_Quantity DESC\n",
    "LIMIT 1;\n",
    "\"\"\"\n",
    "df14 = run_query(query14)\n",
    "st.dataframe(df14)"
   ]
  },
  {
   "cell_type": "code",
   "execution_count": 20,
   "id": "7256d932",
   "metadata": {},
   "outputs": [
    {
     "name": "stderr",
     "output_type": "stream",
     "text": [
      "2025-08-15 21:24:26.838 Thread 'MainThread': missing ScriptRunContext! This warning can be ignored when running in bare mode.\n",
      "2025-08-15 21:24:26.842 Thread 'MainThread': missing ScriptRunContext! This warning can be ignored when running in bare mode.\n",
      "2025-08-15 21:24:26.843 Thread 'MainThread': missing ScriptRunContext! This warning can be ignored when running in bare mode.\n",
      "2025-08-15 21:24:26.852 Thread 'MainThread': missing ScriptRunContext! This warning can be ignored when running in bare mode.\n",
      "2025-08-15 21:24:26.852 Thread 'MainThread': missing ScriptRunContext! This warning can be ignored when running in bare mode.\n",
      "2025-08-15 21:24:26.853 Thread 'MainThread': missing ScriptRunContext! This warning can be ignored when running in bare mode.\n"
     ]
    },
    {
     "data": {
      "text/plain": [
       "DeltaGenerator()"
      ]
     },
     "execution_count": 20,
     "metadata": {},
     "output_type": "execute_result"
    }
   ],
   "source": [
    "# ==============================\n",
    "# 15. Food Type with Highest Near Expiry Unclaimed Stock\n",
    "# ==============================\n",
    "st.subheader(\"1️⃣5️⃣ Food Type with Highest Near Expiry Unclaimed Stock\")\n",
    "query15 = \"\"\"\n",
    "SELECT f.Food_Type, \n",
    "       COUNT(*) AS Near_Expiry_Unclaimed\n",
    "FROM food_listings_data f\n",
    "LEFT JOIN claims_data c ON f.Food_ID = c.Food_ID AND c.Status = 'Completed'\n",
    "WHERE f.Expiry_Date <= DATE_ADD(CURDATE(), INTERVAL 2 DAY)\n",
    "  AND (c.Claim_ID IS NULL OR c.Status != 'Completed')\n",
    "GROUP BY f.Food_Type\n",
    "ORDER BY Near_Expiry_Unclaimed DESC;\n",
    "\"\"\"\n",
    "df15 = run_query(query15)\n",
    "st.dataframe(df15)\n",
    "\n"
   ]
  },
  {
   "cell_type": "code",
   "execution_count": 21,
   "id": "445c8128",
   "metadata": {},
   "outputs": [
    {
     "name": "stderr",
     "output_type": "stream",
     "text": [
      "2025-08-15 21:24:31.666 Thread 'MainThread': missing ScriptRunContext! This warning can be ignored when running in bare mode.\n",
      "2025-08-15 21:24:31.667 Thread 'MainThread': missing ScriptRunContext! This warning can be ignored when running in bare mode.\n",
      "2025-08-15 21:24:31.667 Thread 'MainThread': missing ScriptRunContext! This warning can be ignored when running in bare mode.\n"
     ]
    },
    {
     "data": {
      "text/plain": [
       "DeltaGenerator()"
      ]
     },
     "execution_count": 21,
     "metadata": {},
     "output_type": "execute_result"
    }
   ],
   "source": [
    "# ------------------------------\n",
    "st.success(\"✅ Dashboard Loaded Successfully!\")"
   ]
  },
  {
   "cell_type": "code",
   "execution_count": null,
   "id": "fb5b4f9e",
   "metadata": {},
   "outputs": [],
   "source": []
  }
 ],
 "metadata": {
  "kernelspec": {
   "display_name": "Python 3",
   "language": "python",
   "name": "python3"
  },
  "language_info": {
   "codemirror_mode": {
    "name": "ipython",
    "version": 3
   },
   "file_extension": ".py",
   "mimetype": "text/x-python",
   "name": "python",
   "nbconvert_exporter": "python",
   "pygments_lexer": "ipython3",
   "version": "3.11.9"
  }
 },
 "nbformat": 4,
 "nbformat_minor": 5
}
